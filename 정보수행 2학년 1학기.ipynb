{
 "cells": [
  {
   "cell_type": "markdown",
   "metadata": {},
   "source": [
    "# 구글 번역기 오류를 고쳐주는 프로그램(과학 논문 번역용)"
   ]
  },
  {
   "cell_type": "markdown",
   "metadata": {},
   "source": [
    "### 파이썬 내장 구글 번역기(Python Google Translator)"
   ]
  },
  {
   "cell_type": "code",
   "execution_count": 19,
   "metadata": {},
   "outputs": [
    {
     "name": "stdout",
     "output_type": "stream",
     "text": [
      "Create a csv file to create a translation error list\n"
     ]
    }
   ],
   "source": [
    "from googletrans import Translator\n",
    "\n",
    "translator = Translator()\n",
    "print(translator.translate('csv파일을 만들어 번역 오류 리스트 만들기', src='ko', dest='en').text)"
   ]
  },
  {
   "cell_type": "code",
   "execution_count": 7,
   "metadata": {},
   "outputs": [
    {
     "name": "stdout",
     "output_type": "stream",
     "text": [
      "Korean accepted version\n"
     ]
    }
   ],
   "source": [
    "from googletrans import Translator\n",
    "\n",
    "translator = Translator()\n",
    "print(translator.translate('한국어 허용 버전', src='ko', dest='en').text)"
   ]
  },
  {
   "cell_type": "markdown",
   "metadata": {},
   "source": [
    "### 한 문장에 대해서 번역 오류 고치기(Fix translation errors for a sentence)"
   ]
  },
  {
   "cell_type": "code",
   "execution_count": 1,
   "metadata": {},
   "outputs": [
    {
     "name": "stdout",
     "output_type": "stream",
     "text": [
      "A further air foil comprises an air deflector for the bumper of a highway vehicle.\n",
      "추가의 공기 포일은 고속도로 차량의 범퍼 용 공기 변류기를 포함한다.\n"
     ]
    }
   ],
   "source": [
    "from googletrans import Translator\n",
    "\n",
    "translator = Translator()\n",
    "e='A further air foil comprises an air deflector for the bumper of a highway vehicle.'\n",
    "c=translator.translate(e, src='en', dest='ko').text\n",
    "a={1:'Deflector',2:'전향 장치', 3:'변류기'}\n",
    "\n",
    "print(e)\n",
    "if a[1].lower() in e or a[1] in e :\n",
    "    if a[2] in c :\n",
    "        d = c.replace(a[2], a[3])\n",
    "        print(d)\n",
    "    else :\n",
    "        print(c)"
   ]
  },
  {
   "cell_type": "markdown",
   "metadata": {},
   "source": [
    "### class 를 이용해 일반적인 상황에서 번역 오류 고치는 프로그램(과학 논문 읽기용)\n",
    "A program to fix translation errors under normal circumstances using class(For reading scientific papers)"
   ]
  },
  {
   "cell_type": "code",
   "execution_count": 2,
   "metadata": {},
   "outputs": [
    {
     "name": "stdout",
     "output_type": "stream",
     "text": [
      "번역하고 싶은 문장을 넣어 주세요:A further air foil comprises an air deflector for the bumper of a highway vehicle.\n",
      "고치기 전: 추가의 공기 포일은 고속도로 차량의 범퍼 용 공기 전향 장치를 포함한다.\n",
      "새로 고쳐져서 번역된 문장: 추가의 공기 포일은 고속도로 차량의 보호대 용 공기 변류기를 포함한다.\n"
     ]
    }
   ],
   "source": [
    "from googletrans import Translator\n",
    "import csv\n",
    "\n",
    "#클래스를 이용하여 번역 오류를 수정\n",
    "class myTranslator:\n",
    "    def __init__(self, eng, kor):\n",
    "        self.eng = eng\n",
    "        self.kor = kor\n",
    "\n",
    "    def Translate(self, en_word, miss_kword, fix_kword):\n",
    "        if en_word.lower() in self.eng.lower() :\n",
    "            if miss_kword in self.kor :\n",
    "                self.kor = self.kor.replace(miss_kword, fix_kword)\n",
    "        return(self.kor)\n",
    "\n",
    "translator = Translator()\n",
    "\n",
    "en_sentence=input('번역하고 싶은 문장을 넣어 주세요:')\n",
    "kor_sentence=translator.translate(en_sentence, src='en', dest='ko').text\n",
    "t = myTranslator(en_sentence, kor_sentence)\n",
    "\n",
    "f=open('구글번역오류사전.csv')\n",
    "csv_dic=csv.reader(f)\n",
    "firstLine=True\n",
    "for line in csv_dic :\n",
    "    if(firstLine) :\n",
    "        firstLine = False\n",
    "        continue\n",
    "        \n",
    "    kor_new = t.Translate(line[0], line[1], line[2])\n",
    "\n",
    "print('고치기 전:',kor_sentence)\n",
    "print('새로 고쳐져서 번역된 문장:',kor_new)\n"
   ]
  },
  {
   "cell_type": "markdown",
   "metadata": {},
   "source": [
    "# 화학물질에 대한 정보를 얻을 수 있는 프로그램(Programs to get information about chemicals)"
   ]
  },
  {
   "cell_type": "code",
   "execution_count": 22,
   "metadata": {},
   "outputs": [
    {
     "name": "stdout",
     "output_type": "stream",
     "text": [
      "화학식 또는 화학물질 이름(영어)을 입력하세요:carbon dioxide\n",
      "Input interpretation:\n",
      "carbon dioxide \n",
      "\n",
      "Chemical names and formulas:\n",
      "formula | CO_2\n",
      "name | carbon dioxide \n",
      "\n",
      "Basic properties:\n",
      "molar mass | 44.009 g/mol\n",
      "phase | gas (at STP)\n",
      "melting point | -56.56 °C (at triple point)\n",
      "boiling point | -78.5 °C (at sublimation point)\n",
      "density | 0.00184212 g/cm^3 (at 20 °C) \n",
      "\n",
      "Chemical identifiers:\n",
      "CAS number | 124-38-9\n",
      "Beilstein number | 1900390\n",
      "PubChem CID number | 280\n",
      "PubChem SID number | 24857758\n",
      "SMILES identifier | C(=O)=O \n",
      "\n"
     ]
    }
   ],
   "source": [
    "#영어 버전(only for an english)\n",
    "import requests\n",
    "from bs4 import BeautifulSoup as bs\n",
    "from selenium import webdriver\n",
    "from selenium.webdriver.common.by import By\n",
    "from selenium.webdriver.support.ui import WebDriverWait\n",
    "from selenium.webdriver.support import expected_conditions as EC\n",
    "#from IPython.display import Image\n",
    "\n",
    "#몇몇 페이지의 경우, 페이지 로딩 지연이 발생하여(여러 요청이 병합하여 페이지 결과를 생성) tag를 못읽어오는 경우가 발생할 수 있음\n",
    "#따라서 WEBDRIVER를 이용하여 특정 TAG가 로딩될때까지 기다렸다가 크롤링을 함.\n",
    "\n",
    "urlsrc = 'https://www.wolframalpha.com/input/?i='\n",
    "\n",
    "keyword = input('화학식 또는 화학물질 이름(영어)을 입력하세요:')\n",
    "#keyword = 'H2O'\n",
    "\n",
    "# WEB 자원 로드\n",
    "driver = webdriver.Chrome(\"C:\\\\Users\\\\sean5\\\\Downloads\\\\test_images\\\\chromedriver.exe\")\n",
    "# 암묵적으로 웹 자원 로드를 위해 3초까지 기다려 준다.\n",
    "driver.implicitly_wait(3)\n",
    "\n",
    "# 크롤링할 URL 지정\n",
    "driver.get(urlsrc+keyword)\n",
    "try:\n",
    "    # css selector가 Chemical identifier 인 tag를 15초 내에 검색, \n",
    "    #그렇지 않으면 timeoutexception 발생\n",
    "    element = WebDriverWait(driver, 15).until(\n",
    "        EC.presence_of_element_located((By.CSS_SELECTOR, \"#ToxicityProperties\\:ChemicalData > section > header > h2\"))\n",
    "#        EC.presence_of_element_located((By.CSS_SELECTOR, \"#StructureDiagramPod\\:ChemicalData > section > header > h2\"))\n",
    "    )\n",
    "except TimeoutException :\n",
    "    # 위에서 지정한 CSS TAG를 10초안에 찾지 못하여 시간초과 Exception(예외)에러 발생\n",
    "    print('Time-Out')\n",
    "finally:\n",
    "    html = driver.page_source\n",
    "    # 파싱할 문서를 BeautifulSoup 클래스의 생성자에 넘겨주어 문서 개체를 생성, 관습적으로 soup 이라 부름\n",
    "    soup = bs(html, 'html.parser') \n",
    "   \n",
    "    # 화학식 또는 화학물질이름 파싱\n",
    "    title = soup.select('#Input > section > header > h2')\n",
    "    print(title[0].get_text())\n",
    "    contents = soup.select('#Input > section > div.output.ng-scope.isProduct > div > img')\n",
    "    print(contents[0].get(\"alt\"), \"\\n\")\n",
    "    \n",
    "    # Chemical 이름 및 Formula 항목 파싱\n",
    "    title = soup.select('#ChemicalNamesFormulas\\:ChemicalData > section > header > h2')\n",
    "    print(title[0].get_text())\n",
    "    contents = soup.select('#ChemicalNamesFormulas\\:ChemicalData > section > div.output.ng-scope.isProduct > div > img')\n",
    "    print(contents[0].get(\"alt\"), \"\\n\")\n",
    "    \n",
    "    # Struct Diagram 항목 파싱\n",
    "#    title = soup.select('#StructureDiagramPod\\:ChemicalData > section > header > h2')\n",
    "#    print(title[0].get_text())\n",
    "#    contents = soup.select('#StructureDiagramPod\\:ChemicalData > section > div.output.ng-scope.isProduct > div > img')\n",
    "#    print(contents[0].get(\"src\"))\n",
    "#    print(contents[0].get_text())\n",
    "#    print(contents[0], \"\\n\")\n",
    "    \n",
    "    # Basic properties 항목 파싱\n",
    "    title = soup.select('#Basic\\:ChemicalData > section > header > h2')\n",
    "    print(title[0].get_text())\n",
    "    contents = soup.select('#Basic\\:ChemicalData > section > div.output.ng-scope.isProduct > div > img')\n",
    "    print(contents[0].get(\"alt\"), \"\\n\")\n",
    "    \n",
    "    # Chemical identifier 항목 파싱\n",
    "    title = soup.select('#ChemicalIdentifiers\\:ChemicalData > section > header > h2')\n",
    "    print(title[0].get_text())\n",
    "    contents = soup.select('#ChemicalIdentifiers\\:ChemicalData > section > div.output.ng-scope.isProduct > div > img')\n",
    "    print(contents[0].get(\"alt\"), \"\\n\")\n",
    "    \n",
    "#파싱이 모두 끝났으므로 WEB자원 닫음.\n",
    "driver.quit()\n",
    "    \n"
   ]
  },
  {
   "cell_type": "markdown",
   "metadata": {},
   "source": [
    "### 화학물질에 대한 정보를 위 번역프로그램과 합쳐서 한국어로 출력(Korean accepted version with up code)"
   ]
  },
  {
   "cell_type": "code",
   "execution_count": 21,
   "metadata": {
    "scrolled": true
   },
   "outputs": [
    {
     "name": "stdout",
     "output_type": "stream",
     "text": [
      "화학식 또는 화학물질 이름을 입력하세요:이산화탄소\n",
      "입력 해석 :\n",
      "이산화탄소 \n",
      "\n",
      "화학 이름 및 공식 :\n",
      "수식 | CO_2\n",
      "이름 | 이산화탄소 \n",
      "\n",
      "기본 속성 :\n",
      "몰 질량 | 44.009g / 몰\n",
      "단계 | 가스 (STP에서)\n",
      "용융점 | -56.56 ° C (삼중점)\n",
      "끓는점 | -78.5 ° C (승화 점에서)\n",
      "밀도 | 0.00184212 g / cm ^ 3 (20 ℃에서) \n",
      "\n",
      "화학 물질 식별자 :\n",
      "CAS 번호 | 124-38-9\n",
      "Beilstein 번호 | 1900390\n",
      "PubChem CID 번호 | 280\n",
      "PubChem SID 번호 | 24857758\n",
      "SMILES 식별자 | C (= O) = O \n",
      "\n"
     ]
    }
   ],
   "source": [
    "import requests\n",
    "from bs4 import BeautifulSoup as bs\n",
    "from selenium import webdriver\n",
    "from selenium.webdriver.common.by import By\n",
    "from selenium.webdriver.support.ui import WebDriverWait\n",
    "from selenium.webdriver.support import expected_conditions as EC\n",
    "from googletrans import Translator\n",
    "import csv\n",
    "#from IPython.display import Image\n",
    "\n",
    "\n",
    "class myTranslator:\n",
    "    def __init__(self, eng, kor):\n",
    "        self.eng = eng\n",
    "        self.kor = kor\n",
    "\n",
    "    def Translate(self, en_word, miss_kword, fix_kword):\n",
    "        if en_word.lower() in self.eng.lower() :\n",
    "            if miss_kword in self.kor :\n",
    "                self.kor = self.kor.replace(miss_kword, fix_kword)\n",
    "        return(self.kor)\n",
    "\n",
    "translator = Translator()    \n",
    "    \n",
    "#몇몇 페이지의 경우, 페이지 로딩 지연이 발생하여(여러 요청이 병합하여 페이지 결과를 생성) tag를 못읽어오는 경우가 발생할 수 있음\n",
    "#따라서 WEBDRIVER를 이용하여 특정 TAG가 로딩될때까지 기다렸다가 크롤링을 함.\n",
    "urlsrc = 'https://www.wolframalpha.com/input/?i='\n",
    "keyword=translator.translate(key, src='ko', dest='en').text\n",
    "key = input('화학식 또는 화학물질 이름을 입력하세요:')\n",
    "#keyword = 'H2O'\n",
    "\n",
    "# WEB 자원 로드y\n",
    "driver = webdriver.Chrome(\"C:\\\\Users\\\\sean5\\\\Downloads\\\\test_images\\\\chromedriver.exe\")\n",
    "# 암묵적으로 웹 자원 로드를 위해 3초까지 기다려 준다.\n",
    "driver.implicitly_wait(3)\n",
    "\n",
    "# 크롤링할 URL 지정\n",
    "driver.get(urlsrc+keyword)\n",
    "try:\n",
    "    # css selector가 Chemical identifier 인 tag를 15초 내에 검색, \n",
    "    #그렇지 않으면 timeoutexception 발생\n",
    "    element = WebDriverWait(driver, 15).until(\n",
    "        EC.presence_of_element_located((By.CSS_SELECTOR, \"#ToxicityProperties\\:ChemicalData > section > header > h2\"))\n",
    "#        EC.presence_of_element_located((By.CSS_SELECTOR, \"#StructureDiagramPod\\:ChemicalData > section > header > h2\"))\n",
    "    )\n",
    "except TimeoutException :\n",
    "    # 위에서 지정한 CSS TAG를 10초안에 찾지 못하여 시간초과 Exception(예외)에러 발생\n",
    "    print('Time-Out')\n",
    "finally:\n",
    "    html = driver.page_source\n",
    "    # 파싱할 문서를 BeautifulSoup 클래스의 생성자에 넘겨주어 문서 개체를 생성, 관습적으로 soup 이라 부름\n",
    "    soup = bs(html, 'html.parser') \n",
    "   \n",
    "    # 화학식 또는 화학물질이름 파싱(chemname)\n",
    "    title = soup.select('#Input > section > header > h2')\n",
    "    chemname1=title[0].get_text()\n",
    "    contents = soup.select('#Input > section > div.output.ng-scope.isProduct > div > img')\n",
    "    chemname2=contents[0].get(\"alt\")\n",
    "    \n",
    "    # Chemical 이름 및 Formula 항목 파싱\n",
    "    title = soup.select('#ChemicalNamesFormulas\\:ChemicalData > section > header > h2')\n",
    "    formula=title[0].get_text()\n",
    "    contents = soup.select('#ChemicalNamesFormulas\\:ChemicalData > section > div.output.ng-scope.isProduct > div > img')\n",
    "    name=contents[0].get(\"alt\")\n",
    "    \n",
    "    # Struct Diagram 항목 파싱\n",
    "#    title = soup.select('#StructureDiagramPod\\:ChemicalData > section > header > h2')\n",
    "#    print(title[0].get_text())\n",
    "#    contents = soup.select('#StructureDiagramPod\\:ChemicalData > section > div.output.ng-scope.isProduct > div > img')\n",
    "#    print(contents[0].get(\"src\"))\n",
    "#    print(contents[0].get_text())\n",
    "#    print(contents[0], \"\\n\")\n",
    "    \n",
    "    # Basic properties 항목 파싱\n",
    "    title = soup.select('#Basic\\:ChemicalData > section > header > h2')\n",
    "    b1=title[0].get_text()\n",
    "    contents = soup.select('#Basic\\:ChemicalData > section > div.output.ng-scope.isProduct > div > img')\n",
    "    b2=contents[0].get(\"alt\")\n",
    "    \n",
    "    # Chemical identifier 항목 파싱\n",
    "    title = soup.select('#ChemicalIdentifiers\\:ChemicalData > section > header > h2')\n",
    "    c1=title[0].get_text()\n",
    "    contents = soup.select('#ChemicalIdentifiers\\:ChemicalData > section > div.output.ng-scope.isProduct > div > img')\n",
    "    c2=contents[0].get(\"alt\")\n",
    "\n",
    "#파싱이 모두 끝났으므로 WEB자원 닫음.\n",
    "driver.quit()\n",
    "\n",
    "f=open('구글번역오류사전.csv')\n",
    "csv_dic=csv.reader(f)\n",
    "firstLine=True\n",
    "for line in csv_dic :\n",
    "    if(firstLine) :\n",
    "        firstLine = False\n",
    "        continue    \n",
    "\n",
    "korsentence1=translator.translate(chemname1, src='en', dest='ko').text\n",
    "chemtran1 = myTranslator(chemname1, korsentence1)\n",
    "\n",
    "korsentence2=translator.translate(chemname2, src='en', dest='ko').text\n",
    "chemtran2 = myTranslator(chemname2, korsentence2)\n",
    "\n",
    "korsentence3=translator.translate(formula, src='en', dest='ko').text\n",
    "formulatran = myTranslator(formula, korsentence3)\n",
    "\n",
    "korsentence4=translator.translate(name, src='en', dest='ko').text\n",
    "nametran = myTranslator(name, korsentence4)\n",
    "\n",
    "korsentence5=translator.translate(b1, src='en', dest='ko').text\n",
    "btran1 = myTranslator(b1, korsentence5)\n",
    "\n",
    "korsentence6=translator.translate(b2, src='en', dest='ko').text\n",
    "btran2 = myTranslator(b2, korsentence6)\n",
    "\n",
    "korsentence7=translator.translate(c1, src='en', dest='ko').text\n",
    "ctran1 = myTranslator(c1, korsentence7)\n",
    "\n",
    "korsentence8=translator.translate(c2, src='en', dest='ko').text\n",
    "ctran2 = myTranslator(c2, korsentence8)\n",
    "\n",
    "chemkor1 = chemtran1.Translate(line[0], line[1], line[2])\n",
    "chemkor2 = chemtran2.Translate(line[0], line[1], line[2])\n",
    "formulakor = formulatran.Translate(line[0], line[1], line[2])\n",
    "namekor = nametran.Translate(line[0], line[1], line[2])\n",
    "bkor1 = btran1.Translate(line[0], line[1], line[2])\n",
    "bkor2 = btran2.Translate(line[0], line[1], line[2])\n",
    "ckor1 = ctran1.Translate(line[0], line[1], line[2])\n",
    "ckor2 = ctran2.Translate(line[0], line[1], line[2])\n",
    "\n",
    "print(chemkor1)\n",
    "print(chemkor2,\"\\n\")\n",
    "print(formulakor)\n",
    "print(namekor,\"\\n\")\n",
    "print(bkor1)\n",
    "print(bkor2,\"\\n\")\n",
    "print(ckor1)\n",
    "print(ckor2)\n",
    "\n"
   ]
  },
  {
   "cell_type": "code",
   "execution_count": null,
   "metadata": {
    "scrolled": true
   },
   "outputs": [],
   "source": []
  },
  {
   "cell_type": "code",
   "execution_count": null,
   "metadata": {},
   "outputs": [],
   "source": [
    "from bs4 import BeautifulSoup\n",
    "import urlib.request\n",
    "\n",
    "def get(max_count=1):\n",
    "    base_url=\"http://1000img.com\"\n",
    "    url=\"http://1000img.com/ran.php\"\n",
    "    \n",
    "    count=1\n",
    "    while count <= max_count:\n",
    "        print(\"+--------[%d번째 이미지]--------+\"%count)\n",
    "        \n",
    "        "
   ]
  },
  {
   "cell_type": "code",
   "execution_count": 10,
   "metadata": {},
   "outputs": [
    {
     "data": {
      "image/png": "[encoded data removed]",
      "text/plain": [
       "<matplotlib.figure.Figure at 0x1bdea651828>"
      ]
     },
     "metadata": {},
     "output_type": "display_data"
    }
   ],
   "source": [
    "import matplotlib.image as img\n",
    "\n",
    "import matplotlib.pyplot as pp\n",
    "\n",
    " \n",
    "\n",
    "fileName = \"C:\\\\Users\\\\sean5\\\\Downloads\\\\56.gif\"\n",
    "\n",
    " \n",
    "\n",
    "ndarray = img.imread(fileName)\n",
    "\n",
    "#pp.axis('off')\n",
    "pp.xticks([])\n",
    "pp.yticks([])\n",
    " \n",
    "\n",
    "pp.imshow(ndarray)\n",
    "\n",
    "pp.show()\n",
    "\n"
   ]
  },
  {
   "cell_type": "code",
   "execution_count": null,
   "metadata": {},
   "outputs": [],
   "source": []
  }
 ],
 "metadata": {
  "kernelspec": {
   "display_name": "Python 3",
   "language": "python",
   "name": "python3"
  },
  "language_info": {
   "codemirror_mode": {
    "name": "ipython",
    "version": 3
   },
   "file_extension": ".py",
   "mimetype": "text/x-python",
   "name": "python",
   "nbconvert_exporter": "python",
   "pygments_lexer": "ipython3",
   "version": "3.6.4"
  }
 },
 "nbformat": 4,
 "nbformat_minor": 2
}
